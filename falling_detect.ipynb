{
 "cells": [
  {
   "cell_type": "code",
   "execution_count": null,
   "metadata": {},
   "outputs": [],
   "source": [
    "# Loading a pretrained model\n",
    "model = YOLO('yolov8n.pt')\n",
    "\n",
    "# free up GPU memory\n",
    "torch.cuda.empty_cache()\n",
    "\n",
    "# Training the model\n",
    "model.train(data = './ships-aerial-images/data.yaml',\n",
    "            epochs = 5,\n",
    "            imgsz = (height, width, channels),\n",
    "            seed = 42,\n",
    "            batch = 1,\n",
    "            workers = 4)"
   ]
  },
  {
   "cell_type": "code",
   "execution_count": null,
   "metadata": {},
   "outputs": [],
   "source": [
    "def fall_detect(img_path):\n",
    "    \n",
    "    # Read the image\n",
    "    img = cv2.imread()\n",
    "\n",
    "    # Pass the image through the detection model and get the result\n",
    "    detect_result = model(img)\n",
    "\n",
    "    # Plot the detections\n",
    "    detect_img = detect_result[0].plot()\n",
    "    \n",
    "    # Convert the image to RGB format\n",
    "    detect_img = cv2.cvtColor(detect_img, cv2.COLOR_BGR2RGB)\n",
    "    \n",
    "    return detect_img"
   ]
  }
 ],
 "metadata": {
  "kernelspec": {
   "display_name": "yolo",
   "language": "python",
   "name": "python3"
  },
  "language_info": {
   "name": "python",
   "version": "3.11.10"
  }
 },
 "nbformat": 4,
 "nbformat_minor": 2
}
